{
 "cells": [
  {
   "cell_type": "markdown",
   "metadata": {},
   "source": [
    "# Rectangle Free Coloring of Grids\n",
    "This notebook was inspired by and based off [this aperiodical post](https://aperiodical.com/2019/07/the-big-internet-math-off-the-final-sameer-shah-vs-sophie-carr/) about a wonderful math problem centered around seemingly unarranged colors. If you want an excellent introduction to the problem I highly recommend reading the post, it does a wonderful job of teaching and does not require any mathematics background. Here I try to give an introduction to the problem of finding rectangle free coloring grids, but this is mostly a Python implimentation of finding them."
   ]
  },
  {
   "cell_type": "markdown",
   "metadata": {},
   "source": [
    "## Intro and a big example\n",
    "Starting with the same image used in the previously mentioned post, the grid below is one of the solutions we are after. \n",
    "<img src=\"https://aperiodical.com/wp-content/uploads/2019/07/1-8.png\" alt=\"17x17 Grid of colored circles\" width=\"350\">\n",
    "\n",
    "It is colorful, but why is it interesting? It does not seem to have any symmetries mathematicians usually like. It is not clear there is structure at all. Despite that, I'm tempted to agree with the post's claim that this might be the \"most beautiful 17 x 17 square in the world.\"\n",
    "\n",
    "To see its structure, pick a 2 x 2 square anywhere on the grid, such as the four top left circles. Three are blue and the fourth is green. They are not all the same color. Keep looking. Are there any 2 x 2 squares  on the grid where all four corners are the same color? What if you pick a 3 x 3 square or a 5 x 9 rectangle? \n",
    "\n",
    "This 17 x 17 grid has no rectangles *of any size* where all four corners are the same color! In 2009 a mathematician tried and failed to find one, so they [offered \\$$17^2$](https://blog.computationalcomplexity.org/2009/11/17x17-challenge-worth-28900-this-is-not.html) for its discovery. At the time it was not proven that this grid existed. It was found and the prize was claimed [three years later](http://bit-player.org/2012/17-x-17-28900) with the help of a computer.  \n",
    "\n",
    "The rest of this notebook goes over one way for a computer to find rectangle free colorings of smaller grids. It consistently works well for square grids up to 11 x 11 and does a fair job looking for grids with one small and one large dimension, such as 8 x 37."
   ]
  },
  {
   "cell_type": "markdown",
   "metadata": {},
   "source": [
    "## Overview of algorithm\n",
    "This algorithm is a sort of \"random walk\", where we guess a bad solution and tell the computer to change our answer in a useful but random direction, hoping we end up at a good solution. This approach is not guaranteed to work, but in practice it can usually find grids up to 11 x 11 in a few hundred attempts. \n",
    "\n",
    "### Pseudocode for finding rectangle free colorings of grids:\n",
    "- randomly color an initial board\n",
    "- find all the rectangle colorings\n",
    "- while (any colorings exist)\n",
    " - for each coloring\n",
    "   - get the available colors (all colors except the one the corners currently are)\n",
    "   - randomly select one of the four corners\n",
    "   - change the selected corner to an available color\n",
    " - update the colorings for the new board\n",
    " \n",
    " \n",
    "This process gurantees the current rectangles are broken up, but certainly can and does create new ones. It tends to fix more rectangles than it creates on grids up to 11 x 11, but it has yet to succeed for me a 12 x 12 grid."
   ]
  },
  {
   "cell_type": "code",
   "execution_count": 1,
   "metadata": {
    "collapsed": true
   },
   "outputs": [],
   "source": [
    "import numpy as np\n",
    "import matplotlib.pyplot as plt\n",
    "from matplotlib.patches import Rectangle\n",
    "import matplotlib"
   ]
  },
  {
   "cell_type": "code",
   "execution_count": 2,
   "metadata": {
    "collapsed": true
   },
   "outputs": [],
   "source": [
    "def displayGrid(grid, matches, ax=None, cmap=None):\n",
    "    '''\n",
    "    Display the grid and draw all the rectangle colorings on it\n",
    "    '''\n",
    "    if ax is None:\n",
    "        fig, ax = plt.subplots()\n",
    "    if cmap is None:\n",
    "        cmap = matplotlib.colors.ListedColormap(['red', \"green\", 'blue', 'orange'])\n",
    "\n",
    "    ax.imshow(grid, cmap=cmap)\n",
    "    ax.axis('off')\n",
    "\n",
    "    for m in matches:\n",
    "        i, j = m[0], m[1]\n",
    "        w, h = m[2], m[3]\n",
    "        rect = Rectangle((j, i), w, h, fill=False, color=\"white\", alpha=0.6, lw=3)\n",
    "        ax.add_patch(rect)\n",
    "\n",
    "    plt.show()\n",
    "    \n",
    "\n",
    "def checkRectangles(grid, width, height):\n",
    "    '''\n",
    "    Check the entire grid for rectangles of size width by height\n",
    "    where all four corners are the same color\n",
    "    '''\n",
    "    width -= 1\n",
    "    height -= 1\n",
    "    matching_corners = []\n",
    "    for i in range(grid.shape[0] - height):\n",
    "        for j in range(grid.shape[1] - width):\n",
    "            corners = ((i, j),\n",
    "                       (i+height, j),\n",
    "                       (i, j+width),\n",
    "                       (i+height, j+width))\n",
    "            corner_values = [grid[c] for c in corners]\n",
    "            if all(corner_values == corner_values[0]):\n",
    "                matching_corners.append( (i, j, width, height) )\n",
    "    return matching_corners\n",
    "\n",
    "\n",
    "def checkAllRectangles(grid):\n",
    "    '''\n",
    "    Get all the matches for all rectangle sizes that fit on the grid\n",
    "    '''\n",
    "    matches = []\n",
    "    for w in range(2, grid.shape[0] + 1):\n",
    "        for h in range(2, grid.shape[1] + 1):\n",
    "            matching_corners = checkRectangles(grid, w, h)\n",
    "            if len(matching_corners) != 0:\n",
    "                matches += matching_corners\n",
    "                \n",
    "    return matches\n",
    "\n",
    "\n",
    "def fixColorings(grid, matches):\n",
    "    '''\n",
    "    Randomly change one corner of each match to a different color\n",
    "    '''\n",
    "    for m in matches:\n",
    "        i, j, w, h = m\n",
    "        corners = ((i, j),\n",
    "                   (i+h, j),\n",
    "                   (i, j+w),\n",
    "                   (i+h, j+w))\n",
    "        index_to_change = np.random.randint(0, len(corners))\n",
    "        available_colors = list( set([0,1,2,3]) - set([grid[corners[0]]]) )\n",
    "        grid[corners[index_to_change]] = np.random.choice(available_colors)\n",
    "        \n",
    "    return grid"
   ]
  },
  {
   "cell_type": "markdown",
   "metadata": {},
   "source": [
    "## Setup\n",
    "Set N to an integer for an N x N grid or a tuple (M, N) for an M x N rectanglar grid.  \n",
    "show_movie = True will create an animation of the path the algorithm took to find the grid. The animation function can be slow, so this is only recommended for small grids that take very few steps to find."
   ]
  },
  {
   "cell_type": "code",
   "execution_count": 3,
   "metadata": {},
   "outputs": [
    {
     "data": {
      "text/plain": [
       "array([[3, 0, 0, 3, 1, 0, 3, 2, 2, 3, 0],\n",
       "       [2, 0, 0, 3, 1, 1, 2, 1, 2, 3, 0],\n",
       "       [1, 3, 2, 1, 0, 3, 1, 2, 1, 0, 0],\n",
       "       [2, 2, 3, 0, 3, 2, 3, 2, 2, 1, 1],\n",
       "       [2, 0, 0, 3, 3, 1, 2, 2, 1, 0, 1],\n",
       "       [0, 3, 1, 2, 3, 0, 3, 3, 2, 0, 1],\n",
       "       [1, 2, 2, 1, 0, 3, 1, 2, 0, 0, 3],\n",
       "       [1, 0, 0, 2, 0, 0, 3, 3, 3, 3, 0],\n",
       "       [2, 1, 0, 0, 3, 2, 3, 3, 0, 0, 1],\n",
       "       [3, 3, 2, 3, 2, 0, 1, 2, 2, 1, 2],\n",
       "       [1, 1, 0, 3, 1, 2, 1, 0, 1, 1, 0]])"
      ]
     },
     "execution_count": 3,
     "metadata": {},
     "output_type": "execute_result"
    }
   ],
   "source": [
    "N = 11\n",
    "show_movie = False\n",
    "\n",
    "if isinstance(N, tuple):\n",
    "    grid = np.random.randint(0, 4, N)\n",
    "elif isinstance(N, int):\n",
    "    grid = np.random.randint(0, 4, (N, N)) # inclusive low, exculsive high\n",
    "else:\n",
    "    raise Exception(\"N must be an integer or a tuple of integers\")\n",
    "grid"
   ]
  },
  {
   "cell_type": "code",
   "execution_count": 4,
   "metadata": {
    "scrolled": false
   },
   "outputs": [
    {
     "name": "stdout",
     "output_type": "stream",
     "text": [
      "Initial grid has 51 rectangles\n"
     ]
    },
    {
     "data": {
      "image/png": "[encoded data removed]",
      "text/plain": [
       "<Figure size 432x288 with 1 Axes>"
      ]
     },
     "metadata": {},
     "output_type": "display_data"
    },
    {
     "name": "stdout",
     "output_type": "stream",
     "text": [
      "22 Colorings Iteration 0\n",
      "16 Colorings Iteration 2\n",
      "13 Colorings Iteration 5\n",
      "10 Colorings Iteration 6\n",
      "9 Colorings Iteration 7\n",
      "5 Colorings Iteration 14\n",
      "3 Colorings Iteration 16\n",
      "1 Colorings Iteration 17\n",
      "0 Colorings Iteration 19\n",
      "Found a Rectangle Free Square in 20 iterations\n"
     ]
    },
    {
     "data": {
      "image/png": "[encoded data removed]",
      "text/plain": [
       "<Figure size 432x288 with 1 Axes>"
      ]
     },
     "metadata": {},
     "output_type": "display_data"
    }
   ],
   "source": [
    "if show_movie:\n",
    "    %matplotlib notebook\n",
    "    from celluloid import Camera\n",
    "else:\n",
    "    %matplotlib inline\n",
    "\n",
    "matches = checkAllRectangles(grid)\n",
    "if not show_movie:\n",
    "    print(f\"Initial grid has {len(matches)} rectangles\")\n",
    "    displayGrid(grid, matches)\n",
    "fewest_colorings = len(checkAllRectangles(grid))\n",
    "max_i = 1000 * (max(grid.shape)**2)\n",
    "i = 0\n",
    "\n",
    "# # Movie Making\n",
    "if show_movie:\n",
    "    fig, ax = plt.subplots()\n",
    "    camera = Camera(fig)\n",
    "\n",
    "while (len(matches) > 0) and (i <= max_i):\n",
    "    # fix all the current colorings\n",
    "    grid = fixColorings(grid, matches)\n",
    "    # find the new issues\n",
    "    matches = checkAllRectangles(grid)\n",
    "    \n",
    "    if show_movie:\n",
    "        displayGrid(grid, matches, ax=ax)\n",
    "        ax.text(N-1, -1, f\"Iteration: {i}\", color=\"black\", ha=\"right\")\n",
    "        if matches:\n",
    "            ax.text(0, -1, f\"Rectangles: {len(matches)}\", color=\"black\")\n",
    "        else:\n",
    "            ax.text(0, -1, \"No Rectangles!\", color=\"black\")\n",
    "        camera.snap()\n",
    "    \n",
    "    if len(matches) < fewest_colorings:\n",
    "        print(len(matches), \"Colorings\", \"Iteration\", i)\n",
    "        fewest_colorings = len(matches)\n",
    "    if (i % 1000 == 0) and (not show_movie) and (i!=0):\n",
    "        print(len(matches), \"Colorings\", \"Iteration\", i)\n",
    "        displayGrid(grid, matches)\n",
    "    i += 1\n",
    "\n",
    "if (i==max_i) and matches:\n",
    "    print(f\"Failed to find a rectangle free square within {i} iterations\")\n",
    "if (not matches) and (not show_movie):\n",
    "    print(f\"Found a Rectangle Free Square in {i} iterations\")\n",
    "    displayGrid(grid, matches)\n",
    "if show_movie:\n",
    "    animation = camera.animate(interval=300, blit=True, repeat=False)"
   ]
  },
  {
   "cell_type": "code",
   "execution_count": null,
   "metadata": {
    "collapsed": true
   },
   "outputs": [],
   "source": []
  }
 ],
 "metadata": {
  "kernelspec": {
   "display_name": "Python 3",
   "language": "python",
   "name": "python3"
  },
  "language_info": {
   "codemirror_mode": {
    "name": "ipython",
    "version": 3
   },
   "file_extension": ".py",
   "mimetype": "text/x-python",
   "name": "python",
   "nbconvert_exporter": "python",
   "pygments_lexer": "ipython3",
   "version": "3.6.7"
  }
 },
 "nbformat": 4,
 "nbformat_minor": 2
}
